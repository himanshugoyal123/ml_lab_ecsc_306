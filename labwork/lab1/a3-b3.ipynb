{
 "cells": [
  {
   "cell_type": "code",
   "execution_count": 4,
   "metadata": {},
   "outputs": [
    {
     "name": "stdout",
     "output_type": "stream",
     "text": [
      "189\n"
     ]
    }
   ],
   "source": [
    "import tensorflow as tf\n",
    "with tf.name_scope(\"A3-B3\"):\n",
    "    with tf.name_scope(\"A-b\"):\n",
    "        a = tf.subtract(6, 3, name=\"SUB\")\n",
    "    with tf.name_scope(\"A2_AB_B2\"):\n",
    "        with tf.name_scope(\"A2\"):\n",
    "            b = tf.multiply(6, 6, name=\"MUL\")\n",
    "        with tf.name_scope(\"AB\"):\n",
    "            c= tf.multiply(6, 3, name=\"MUL\")\n",
    "        with tf.name_scope(\"B2\"):\n",
    "            d = tf.multiply(3, 3, name=\"MUL\")\n",
    "        e = tf.add(b, c, name=\"ADD\")\n",
    "        f = tf.add(d, e, name=\"ADD\")\n",
    "    g = tf.multiply(a, f, name=\"MUL\")\n",
    "\n",
    "with tf.Session() as sess:\n",
    "    writer = tf.summary.FileWriter(\"/tmp/tboard/output15\", sess.graph)\n",
    "    print(sess.run(g))\n",
    "    writer.close()"
   ]
  },
  {
   "cell_type": "code",
   "execution_count": null,
   "metadata": {
    "collapsed": true
   },
   "outputs": [],
   "source": []
  }
 ],
 "metadata": {
  "kernelspec": {
   "display_name": "Python 3",
   "language": "python",
   "name": "python3"
  },
  "language_info": {
   "codemirror_mode": {
    "name": "ipython",
    "version": 3
   },
   "file_extension": ".py",
   "mimetype": "text/x-python",
   "name": "python",
   "nbconvert_exporter": "python",
   "pygments_lexer": "ipython3",
   "version": "3.5.3"
  }
 },
 "nbformat": 4,
 "nbformat_minor": 2
}
