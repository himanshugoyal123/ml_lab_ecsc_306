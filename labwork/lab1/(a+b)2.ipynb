{
 "cells": [
  {
   "cell_type": "code",
   "execution_count": 15,
   "metadata": {},
   "outputs": [
    {
     "name": "stdout",
     "output_type": "stream",
     "text": [
      "25\n"
     ]
    }
   ],
   "source": [
    "import tensorflow as tf\n",
    "tf.reset_default_graph()\n",
    "with tf.name_scope(\"A_B_2\"):\n",
    "    with tf.name_scope(\"A\"):\n",
    "        a = tf.multiply(2, 2, name=\"multiply\")\n",
    "    with tf.name_scope(\"B\"):\n",
    "        b = tf.multiply(3, 3, name=\"multiply\")\n",
    "    with tf.name_scope(\"C\"):\n",
    "        c= tf.multiply(2, 3, name=\"multiply\")\n",
    "        d = tf.multiply(2, c, name=\"multiply\")   \n",
    "    with tf.name_scope(\"A_B_C\"):\n",
    "        g = tf.add(a, b)\n",
    "        h = tf.add(g, d)\n",
    "\n",
    "with tf.Session() as sess:\n",
    "    writer = tf.summary.FileWriter(\"/tmp/tboard/output5\", sess.graph)\n",
    "    print(sess.run(h))\n",
    "    writer.close()"
   ]
  }
 ],
 "metadata": {
  "kernelspec": {
   "display_name": "Python 3",
   "language": "python",
   "name": "python3"
  },
  "language_info": {
   "codemirror_mode": {
    "name": "ipython",
    "version": 3
   },
   "file_extension": ".py",
   "mimetype": "text/x-python",
   "name": "python",
   "nbconvert_exporter": "python",
   "pygments_lexer": "ipython3",
   "version": "3.5.3"
  }
 },
 "nbformat": 4,
 "nbformat_minor": 2
}
